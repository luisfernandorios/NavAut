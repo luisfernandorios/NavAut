{
 "cells": [
  {
   "cell_type": "markdown",
   "metadata": {},
   "source": [
    "<a href=\"https://maestriasydiplomados.tec.mx/posgrados/maestria-en-inteligencia-artificial-aplicada\"><img src=\"logo_MR4010.png\"></a>\n",
    "<h1> <div align=\"center\"> Dr. David Antonio-Torres</div> </h1>"
   ]
  },
  {
   "cell_type": "markdown",
   "metadata": {},
   "source": [
    "# TRANSFORMADA DE HOUGH\n",
    "### Detección de bordes es un procesamiento previo a la detección de líneas con la Transformada de Hough\n",
    "### Así mismo, se incluye la creación de una Región de Interés"
   ]
  },
  {
   "cell_type": "markdown",
   "metadata": {},
   "source": [
    "# Se cargan las bibliotecas necesarias"
   ]
  },
  {
   "cell_type": "code",
   "execution_count": 1,
   "metadata": {},
   "outputs": [],
   "source": [
    "import matplotlib.image as mpimg\n",
    "import matplotlib.pyplot as plt\n",
    "import numpy as np\n",
    "import cv2"
   ]
  },
  {
   "cell_type": "markdown",
   "metadata": {},
   "source": [
    "# Se carga el archivo MP4 y se accede a cada uno de los frames"
   ]
  },
  {
   "cell_type": "code",
   "execution_count": 2,
   "metadata": {},
   "outputs": [],
   "source": [
    "def region_of_interest(img):\n",
    "    altura = image.shape[0]\n",
    "    poligono = np.array([[(200,altura),(1100,altura),(550,250)]])\n",
    "    mascara = np.zeros_like(img)\n",
    "    cv2.fillPoly(mascara,poligono,255)\n",
    "    mascara_img = cv2.bitwise_and(img,mascara)\n",
    "    return mascara_img"
   ]
  },
  {
   "cell_type": "code",
   "execution_count": null,
   "metadata": {},
   "outputs": [],
   "source": [
    "def display_lines(img,lines):\n",
    "    lines_img = np.zeros_like(img)\n",
    "    if lines is not None:\n",
    "        for line in lines:\n",
    "            x1,y1,x2,y2=line.reshape(4)\n",
    "            cv2.line(line_img,(x1,y1),(x2,y2),(255,0,0),10)\n",
    "    return line_img"
   ]
  },
  {
   "cell_type": "code",
   "execution_count": null,
   "metadata": {},
   "outputs": [],
   "source": [
    "lines = cv2.HoughLinesP(cropped_image,2,np.pi/180,100,np.array([]),minLineLength=40,maxLineGap=5)"
   ]
  },
  {
   "cell_type": "markdown",
   "metadata": {},
   "source": [
    "# Gracias por la atención"
   ]
  }
 ],
 "metadata": {
  "kernelspec": {
   "display_name": "Python 3 (ipykernel)",
   "language": "python",
   "name": "python3"
  },
  "language_info": {
   "codemirror_mode": {
    "name": "ipython",
    "version": 3
   },
   "file_extension": ".py",
   "mimetype": "text/x-python",
   "name": "python",
   "nbconvert_exporter": "python",
   "pygments_lexer": "ipython3",
   "version": "3.9.13"
  }
 },
 "nbformat": 4,
 "nbformat_minor": 4
}
